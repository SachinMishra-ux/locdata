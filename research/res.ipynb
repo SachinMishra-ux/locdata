{
 "cells": [
  {
   "cell_type": "code",
   "execution_count": 1,
   "metadata": {},
   "outputs": [
    {
     "name": "stdout",
     "output_type": "stream",
     "text": [
      "Hello\n"
     ]
    }
   ],
   "source": [
    "print(\"Hello\")"
   ]
  },
  {
   "cell_type": "code",
   "execution_count": 2,
   "metadata": {},
   "outputs": [],
   "source": []
  },
  {
   "cell_type": "code",
   "execution_count": 3,
   "metadata": {},
   "outputs": [
    {
     "name": "stdout",
     "output_type": "stream",
     "text": [
      "[2023-02-05 23:30:55,276: INFO: app]: values is 3\n"
     ]
    },
    {
     "data": {
      "text/plain": [
       "6"
      ]
     },
     "execution_count": 3,
     "metadata": {},
     "output_type": "execute_result"
    }
   ],
   "source": []
  },
  {
   "cell_type": "code",
   "execution_count": 9,
   "metadata": {},
   "outputs": [],
   "source": [
    "from locdata.timer import start"
   ]
  },
  {
   "cell_type": "code",
   "execution_count": 10,
   "metadata": {},
   "outputs": [
    {
     "name": "stdout",
     "output_type": "stream",
     "text": [
      "\n",
      "res.ipynb - locdata - Visual Studio Code\n",
      "● res.ipynb - locdata - Visual Studio Code\n",
      "res.ipynb - locdata - Visual Studio Code\n",
      "● res.ipynb - locdata - Visual Studio Code\n",
      "res.ipynb - locdata - Visual Studio Code\n",
      "● res.ipynb - locdata - Visual Studio Code\n",
      "res.ipynb - locdata - Visual Studio Code\n",
      "● res.ipynb - locdata - Visual Studio Code\n",
      "\n",
      "res.ipynb - locdata - Visual Studio Code\n",
      "● res.ipynb - locdata - Visual Studio Code\n"
     ]
    }
   ],
   "source": [
    "start()"
   ]
  },
  {
   "cell_type": "code",
   "execution_count": 8,
   "metadata": {},
   "outputs": [
    {
     "name": "stdout",
     "output_type": "stream",
     "text": [
      "Hello\n"
     ]
    }
   ],
   "source": [
    "if True:\n",
    "    print(\"Hello\")"
   ]
  }
 ],
 "metadata": {
  "kernelspec": {
   "display_name": "Python 3",
   "language": "python",
   "name": "python3"
  },
  "language_info": {
   "codemirror_mode": {
    "name": "ipython",
    "version": 3
   },
   "file_extension": ".py",
   "mimetype": "text/x-python",
   "name": "python",
   "nbconvert_exporter": "python",
   "pygments_lexer": "ipython3",
   "version": "3.7.16"
  },
  "orig_nbformat": 4,
  "vscode": {
   "interpreter": {
    "hash": "16a2ad6d49ad9f25df7e7520b4efbe22bdda0ff03eccf9f792ade44578d51264"
   }
  }
 },
 "nbformat": 4,
 "nbformat_minor": 2
}
